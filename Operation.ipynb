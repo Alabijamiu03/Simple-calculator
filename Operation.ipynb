{
 "cells": [
  {
   "cell_type": "code",
   "execution_count": 1,
   "id": "be7d0e8a",
   "metadata": {},
   "outputs": [
    {
     "name": "stdout",
     "output_type": "stream",
     "text": [
      "What do you want to perform today, CALCULATION or check OPERATION TABLE: operation table\n",
      "Input your value you want to check: 98\n",
      "Which operator do you want to use: _\n",
      "Invalid operator\n"
     ]
    }
   ],
   "source": [
    "task = input(\"What do you want to perform today, CALCULATION or check OPERATION TABLE: \")\n",
    "task = task.lower()\n",
    "task = task.strip()\n",
    "\n",
    "\n",
    "#if the user want to do some calculation\n",
    "if task == \"calculation\":\n",
    "    input1 = int(input(\"Input your first value: \"))\n",
    "    input2 = int(input(\"Input your second value: \"))\n",
    "    operator = input(\"Which operator do you want to use: \")\n",
    "    \n",
    "    if operator == \"+\":\n",
    "        print(str(input1) , operator , str(input2) , \"=\" , str(input1 + input2))\n",
    "        \n",
    "    elif operator == \"-\":\n",
    "        print(str(input1) , operator , str(input2) , \"=\" , str(input1 - input2))\n",
    "        \n",
    "    elif operator == \"*\":\n",
    "        print(str(input1) , operator , str(input2) , \"=\" , str(input1 * input2))\n",
    "        \n",
    "    elif operator == \"/\":\n",
    "        print(str(input1) , operator , str(input2) , \"=\" , str(input1 / input2))\n",
    "        \n",
    "    else:\n",
    "        print(\"Invalid operator\")\n",
    "    \n",
    "\n",
    "    \n",
    "#if the user wants to check the operation table\n",
    "elif task == \"operation table\":\n",
    "    input1 = int(input(\"Input your value you want to check: \"))\n",
    "    operator = input(\"Which operator do you want to use: \")\n",
    "    \n",
    "    if operator == \"+\":\n",
    "        for num in range(1,21):\n",
    "            print(str(input1) , operator , str(num) , \"=\" , str(input1 + num))\n",
    "            \n",
    "    elif operator == \"-\":\n",
    "        for num in range(1,21):\n",
    "            print(str(input1) , operator , str(num) , \"=\" , str(input1 - num))\n",
    "            \n",
    "    elif operator == \"*\":\n",
    "        for num in range(1,21):\n",
    "            print(str(input1) , operator , str(num) , \"=\" , str(input1 * num))\n",
    "            num += 1\n",
    "            \n",
    "    elif operator == \"/\":\n",
    "        for num in range(1,21):\n",
    "            print(str(input1) , operator , str(input2) , \"=\" , str(input1 / num))\n",
    "            num += 1\n",
    "            \n",
    "    else:\n",
    "        print(\"Invalid operator\")\n",
    "        \n",
    "        \n",
    "#if user enters an invalid task\n",
    "else:\n",
    "    print(\"Invalid task\")"
   ]
  },
  {
   "cell_type": "code",
   "execution_count": null,
   "id": "5b4367ef",
   "metadata": {},
   "outputs": [],
   "source": []
  }
 ],
 "metadata": {
  "kernelspec": {
   "display_name": "Python 3",
   "language": "python",
   "name": "python3"
  },
  "language_info": {
   "codemirror_mode": {
    "name": "ipython",
    "version": 3
   },
   "file_extension": ".py",
   "mimetype": "text/x-python",
   "name": "python",
   "nbconvert_exporter": "python",
   "pygments_lexer": "ipython3",
   "version": "3.8.8"
  }
 },
 "nbformat": 4,
 "nbformat_minor": 5
}
